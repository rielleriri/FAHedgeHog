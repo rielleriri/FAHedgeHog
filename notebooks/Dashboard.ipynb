{
 "cells": [
  {
   "cell_type": "code",
   "execution_count": 48,
   "metadata": {},
   "outputs": [
    {
     "name": "stderr",
     "output_type": "stream",
     "text": [
      "[nltk_data] Downloading package averaged_perceptron_tagger to\n",
      "[nltk_data]     C:\\Users\\lwant\\AppData\\Roaming\\nltk_data...\n",
      "[nltk_data]   Package averaged_perceptron_tagger is already up-to-\n",
      "[nltk_data]       date!\n",
      "[nltk_data] Downloading package wordnet to\n",
      "[nltk_data]     C:\\Users\\lwant\\AppData\\Roaming\\nltk_data...\n",
      "[nltk_data]   Package wordnet is already up-to-date!\n"
     ]
    }
   ],
   "source": [
    "# importing libraries\n",
    "from __future__ import print_function\n",
    "from ipywidgets import interact, interactive, fixed, interact_manual\n",
    "from IPython.display import display, HTML, clear_output\n",
    "import matplotlib.pyplot as plt\n",
    "\n",
    "import emoji\n",
    "import re\n",
    "import requests\n",
    "import numpy as np\n",
    "import contractions\n",
    "import pandas as pd\n",
    "import plotly.express as px\n",
    "import plotly\n",
    "import plotly.graph_objects as go\n",
    "import seaborn as sns\n",
    "import ipywidgets as widgets\n",
    "import gensim\n",
    "import nltk\n",
    "nltk.download('averaged_perceptron_tagger')\n",
    "nltk.download('wordnet')\n",
    "\n",
    "clear_output(wait=True)"
   ]
  },
  {
   "cell_type": "code",
   "execution_count": 56,
   "metadata": {},
   "outputs": [
    {
     "data": {
      "image/jpeg": "[encoded data removed]",
      "text/plain": [
       "<IPython.core.display.Image object>"
      ]
     },
     "execution_count": 56,
     "metadata": {},
     "output_type": "execute_result"
    }
   ],
   "source": [
    "from IPython.display import Image\n",
    "Image(filename='hedge.jpg') "
   ]
  },
  {
   "cell_type": "markdown",
   "metadata": {},
   "source": [
    "**Index:**\n",
    "1. <a id='activity'>Reddit Submission Activity based on Term, by Subreddit</a>\n",
    "2. <a id='frequency'>Frequency of Ticker mentions in r/wallstreetbets</a>\n",
    "3. <a id='sentiment'>Sentiment Score of Ticker mentions in r/wallstreetbets</a>\n",
    "4. <a id='ppo'>PPO (between 5v20d) of Ticker</a>\n",
    "5. <a id='hv'>Historical Volatility of Ticker</a>\n",
    "6. <a id='vpt'>VPT of Ticker Closing Price & Volume</a>\n",
    "7. <a id='scorecard'>Scorecard</a>"
   ]
  },
  {
   "cell_type": "code",
   "execution_count": 3,
   "metadata": {},
   "outputs": [],
   "source": [
    "# a couple of helper functions\n",
    "\n",
    "def get_pushshift_data(data_type, **kwargs):\n",
    "    \"\"\"\n",
    "    Gets data from the pushshift api.\n",
    "    \n",
    "    Data type can be 'comment' or 'submission'\n",
    "    The rest of the args as interpreted as payload.\n",
    "    \n",
    "    Read more: https://github.com/pushshift/api\n",
    "    \"\"\"\n",
    "    \n",
    "    base_url = f\"https://api.pushshift.io/reddit/search/{data_type}/\"\n",
    "    payload = kwargs\n",
    "    \n",
    "    request = requests.get(base_url, params=payload)\n",
    "    \n",
    "    return request.json()\n",
    "\n",
    "\n",
    "def make_clickable(val):\n",
    "    \"\"\"\n",
    "    Makes a pandas column clickable.\n",
    "    \"\"\"\n",
    "    \n",
    "    return '<a href=\"{}\">Link</a>'.format(val)"
   ]
  },
  {
   "cell_type": "markdown",
   "metadata": {},
   "source": [
    "[Reddit Submission Activity based on Term, by Subreddit](#activity)\n"
   ]
  },
  {
   "cell_type": "code",
   "execution_count": 4,
   "metadata": {},
   "outputs": [],
   "source": [
    "fig = go.FigureWidget( layout=go.Layout() )\n",
    "def plot_reddit_submission_activity(ticker):\n",
    "\n",
    "    data = get_pushshift_data(data_type=\"submission\", q=ticker, after=\"24h\", size=500, aggs=\"subreddit\").get(\"data\")\n",
    "\n",
    "    df = pd.DataFrame.from_records(data).value_counts(\"subreddit\")[0:10]\n",
    "\n",
    "    x_data = df.keys()\n",
    "    y_data = df.values\n",
    "    \n",
    "    dict_of_fig = dict({\n",
    "        \"data\": [{\"type\": \"bar\",\n",
    "                  \"x\": x_data,\n",
    "                  \"y\": y_data}],\n",
    "        \"layout\": {\"title\": {\"text\": \"Subreddits with most activity - submissions with \" + ticker + \" in the last 24h\",}, \"xaxis_title\": \"Subreddit\", \"yaxis_title\": \"No. of Submissions\"}\n",
    "    })\n",
    "\n",
    "    fig = go.Figure(dict_of_fig)\n",
    "\n",
    "    fig.show()"
   ]
  },
  {
   "cell_type": "code",
   "execution_count": 5,
   "metadata": {
    "scrolled": false
   },
   "outputs": [
    {
     "data": {
      "application/vnd.jupyter.widget-view+json": {
       "model_id": "7d47df4fc9f147518d6bbee38d86b4da",
       "version_major": 2,
       "version_minor": 0
      },
      "text/plain": [
       "interactive(children=(Text(value='GME', description='ticker'), Output()), _dom_classes=('widget-interact',))"
      ]
     },
     "metadata": {},
     "output_type": "display_data"
    },
    {
     "data": {
      "application/vnd.jupyter.widget-view+json": {
       "model_id": "7d1d5ff44d4f4b15bdc7cbd728666b31",
       "version_major": 2,
       "version_minor": 0
      },
      "text/plain": [
       "VBox(children=(FigureWidget({\n",
       "    'data': [], 'layout': {'template': '...'}\n",
       "}),), layout=Layout(border='solid …"
      ]
     },
     "metadata": {},
     "output_type": "display_data"
    }
   ],
   "source": [
    "interact(plot_reddit_submission_activity, ticker='GME')\n",
    "\n",
    "ipywLayout = widgets.Layout(border='solid 2px green')\n",
    "ipywLayout.display='none' # uncomment this, run cell again - then the graph/figure disappears\n",
    "widgets.VBox([fig], layout=ipywLayout)"
   ]
  },
  {
   "cell_type": "code",
   "execution_count": 6,
   "metadata": {},
   "outputs": [
    {
     "name": "stderr",
     "output_type": "stream",
     "text": [
      "[nltk_data] Downloading package vader_lexicon to\n",
      "[nltk_data]     C:\\Users\\lwant\\AppData\\Roaming\\nltk_data...\n",
      "[nltk_data]   Package vader_lexicon is already up-to-date!\n"
     ]
    }
   ],
   "source": [
    "nltk.download('vader_lexicon')\n",
    "from nltk.sentiment import SentimentIntensityAnalyzer as SIA\n",
    "\n",
    "def get_sentiment(sia, text):\n",
    "    if sia.polarity_scores(text)[\"compound\"] > 0:\n",
    "        return \"Positive\"\n",
    "    elif sia.polarity_scores(text)[\"compound\"] < 0:\n",
    "        return \"Negative\"\n",
    "    else:\n",
    "        return \"Neutral\"\n",
    "    \n",
    "sia = SIA()  "
   ]
  },
  {
   "cell_type": "code",
   "execution_count": 7,
   "metadata": {},
   "outputs": [],
   "source": [
    "from gensim.utils import simple_preprocess\n",
    "def remove_stopwords(texts):\n",
    "    return [[word for word in simple_preprocess(str(doc)) if word not in stop_words] for doc in texts]"
   ]
  },
  {
   "cell_type": "code",
   "execution_count": 8,
   "metadata": {},
   "outputs": [
    {
     "name": "stderr",
     "output_type": "stream",
     "text": [
      "[nltk_data] Downloading package stopwords to\n",
      "[nltk_data]     C:\\Users\\lwant\\AppData\\Roaming\\nltk_data...\n",
      "[nltk_data]   Package stopwords is already up-to-date!\n"
     ]
    }
   ],
   "source": [
    "nltk.download('stopwords')\n",
    "from nltk.corpus import stopwords\n",
    "import spacy \n",
    "spacy.load('en_core_web_sm')\n",
    "\n",
    "stop_words = stopwords.words('english')\n",
    "spacy_stopwords = spacy.lang.en.stop_words.STOP_WORDS\n",
    "def sent_to_words(sentences):\n",
    "    for sentence in sentences:\n",
    "        yield(gensim.utils.simple_preprocess(str(sentence), deacc=False))  # deacc=True removes punctuation"
   ]
  },
  {
   "cell_type": "code",
   "execution_count": 9,
   "metadata": {},
   "outputs": [],
   "source": [
    "from nltk.stem import WordNetLemmatizer\n",
    "from nltk.corpus import wordnet\n",
    "\n",
    "def get_wordnet_pos(word):\n",
    "    \"\"\"Map POS tag to first character lemmatize() accepts\"\"\"\n",
    "    tag = nltk.pos_tag([word])[0][1][0].upper()\n",
    "    tag_dict = {\"J\": wordnet.ADJ,\n",
    "                \"N\": wordnet.NOUN,\n",
    "                \"V\": wordnet.VERB,\n",
    "                \"R\": wordnet.ADV}\n",
    "\n",
    "    return tag_dict.get(tag, wordnet.NOUN)"
   ]
  },
  {
   "cell_type": "code",
   "execution_count": 10,
   "metadata": {},
   "outputs": [],
   "source": [
    "fig = go.FigureWidget( layout=go.Layout() )\n",
    "def plot_reddit_title_sentiment(ticker):\n",
    "    labels = ['Neutral','Positive','Negative']\n",
    "    colors = ['blue', 'green', 'red']\n",
    "    mode_size = [8]\n",
    "    line_size = [5]\n",
    "    \n",
    "    data = get_pushshift_data(q=ticker, data_type=\"submission\", after=\"24h\", size=500, sort_type=\"score\", sort=\"desc\", subreddit=\"wallstreetbets\").get(\"data\")\n",
    "    df = pd.DataFrame.from_records(data)[[\"title\", \"created_utc\",\"permalink\"]]\n",
    "    \n",
    "    data = df.title.tolist()\n",
    "    data = [re.sub('\\s+', ' ', str(sent)) for sent in data]\n",
    "    data = [re.sub(r\"(?:\\@|https?\\://)\\S+\", \"\", str(sent)) for sent in data]\n",
    "    data = [emoji.demojize(str(sent), delimiters=(\"\", \" \")) for sent in data]\n",
    "    data = [re.sub('[\\s]+', ' ', str(sent)) for sent in data]\n",
    "    data = [re.sub(r'\\b(\\w+)( \\1\\b)+', r'\\1', str(sent)) for sent in data]\n",
    "    data = [contractions.fix(str(sent)) for sent in data]\n",
    "    data = [re.sub(r\"\\b\\d+\\b\", \" \", str(sent)) for sent in data]\n",
    "    data = [re.sub(r'[^\\x00-\\x7F]+',\"'\", str(sent)) for sent in data]\n",
    "    data = [re.sub(r'[^\\w]|_',' ', str(sent)) for sent in data]\n",
    "    data = [re.sub(r'\\bgamestop\\b', 'gme', str(sent)) for sent in data]\n",
    "    data = [re.sub(r'\\bgamestops\\b', 'gme', str(sent)) for sent in data]\n",
    "    data = [re.sub(r'\\bgamestonk\\b', 'gme', str(sent)) for sent in data]\n",
    "    data = [re.sub(r'\\bgalaxy\\b', 'gme', str(sent)) for sent in data]\n",
    "    data = [re.sub(r'\\bmelvin\\b', 'gme', str(sent)) for sent in data]\n",
    "    data = [re.sub(r'\\brocket\\b', 'gme', str(sent)) for sent in data]\n",
    "    data = [re.sub(r'\\bmoon\\b', 'gme', str(sent)) for sent in data]\n",
    "    data = [re.sub(r'\\bmooning\\b', 'gme', str(sent)) for sent in data]\n",
    "    data = [re.sub('[\\s]+', ' ', str(sent)) for sent in data]\n",
    "    data = [str(sent).lower() for sent in data] \n",
    "    data_words = list(sent_to_words(data))\n",
    "    data_words_nostops = remove_stopwords(data_words)\n",
    "    lemmatizer = WordNetLemmatizer()\n",
    "    lemmatized_data = [[lemmatizer.lemmatize(ch, get_wordnet_pos(ch)) for ch in word] for word in (data_words_nostops)]\n",
    "    string_data =  [' '.join(sent) for sent in lemmatized_data]\n",
    "    df['cleaned_title'] = string_data\n",
    "\n",
    "    df['Sentiment'] = df['cleaned_title'].apply(lambda x : get_sentiment(sia, str(x)))\n",
    "    df['compound'] = [sia.polarity_scores(str(x))['compound'] for x in df['cleaned_title']]\n",
    "    df['neg'] = [sia.polarity_scores(str(x))['neg'] for x in df['cleaned_title']]\n",
    "    df['neu'] = [sia.polarity_scores(str(x))['neu'] for x in df['cleaned_title']]\n",
    "    df['pos'] = [sia.polarity_scores(str(x))['pos'] for x in df['cleaned_title']]\n",
    "    \n",
    "    values = df['Sentiment'].value_counts(normalize=True)\n",
    "    \n",
    "    dict_of_fig = dict({\n",
    "        \"data\": [{\"type\": \"pie\",\n",
    "                  \"labels\": labels,\n",
    "                  \"values\": values,\n",
    "                  \"marker\": {'colors': ['#e6f2ff', '#38F29D', '#F30000']},\n",
    "                  \"textinfo\":\"percent+label\"}],\n",
    "        \"layout\": {\"title\": {\"text\": \"r/wallstreetbets sentiment - submissions with \" + ticker + \" in the last 24h\",}}\n",
    "    })\n",
    "\n",
    "    fig = go.Figure(dict_of_fig)\n",
    "\n",
    "    fig.show()"
   ]
  },
  {
   "cell_type": "code",
   "execution_count": 11,
   "metadata": {},
   "outputs": [],
   "source": [
    "def sentiment_value(ticker):\n",
    "    ticker = 'gme'\n",
    "    data = get_pushshift_data(q=ticker, data_type=\"submission\", after=\"24h\", size=500, sort_type=\"score\", sort=\"desc\", subreddit=\"wallstreetbets\").get(\"data\")\n",
    "    df = pd.DataFrame.from_records(data)[[\"title\", \"created_utc\",\"permalink\"]]\n",
    "    \n",
    "    data = df.title.tolist()\n",
    "    data = [re.sub('\\s+', ' ', str(sent)) for sent in data]\n",
    "    data = [re.sub(r\"(?:\\@|https?\\://)\\S+\", \"\", str(sent)) for sent in data]\n",
    "    data = [emoji.demojize(str(sent), delimiters=(\"\", \" \")) for sent in data]\n",
    "    data = [re.sub('[\\s]+', ' ', str(sent)) for sent in data]\n",
    "    data = [re.sub(r'\\b(\\w+)( \\1\\b)+', r'\\1', str(sent)) for sent in data]\n",
    "    data = [contractions.fix(str(sent)) for sent in data]\n",
    "    data = [re.sub(r\"\\b\\d+\\b\", \" \", str(sent)) for sent in data]\n",
    "    data = [re.sub(r'[^\\x00-\\x7F]+',\"'\", str(sent)) for sent in data]\n",
    "    data = [re.sub(r'[^\\w]|_',' ', str(sent)) for sent in data]\n",
    "    data = [re.sub(r'\\bgamestop\\b', 'gme', str(sent)) for sent in data]\n",
    "    data = [re.sub(r'\\bgamestops\\b', 'gme', str(sent)) for sent in data]\n",
    "    data = [re.sub(r'\\bgamestonk\\b', 'gme', str(sent)) for sent in data]\n",
    "    data = [re.sub(r'\\bgalaxy\\b', 'gme', str(sent)) for sent in data]\n",
    "    data = [re.sub(r'\\bmelvin\\b', 'gme', str(sent)) for sent in data]\n",
    "    data = [re.sub(r'\\brocket\\b', 'gme', str(sent)) for sent in data]\n",
    "    data = [re.sub(r'\\bmoon\\b', 'gme', str(sent)) for sent in data]\n",
    "    data = [re.sub(r'\\bmooning\\b', 'gme', str(sent)) for sent in data]\n",
    "    data = [re.sub('[\\s]+', ' ', str(sent)) for sent in data]\n",
    "    data = [str(sent).lower() for sent in data] \n",
    "    data_words = list(sent_to_words(data))\n",
    "    data_words_nostops = remove_stopwords(data_words)\n",
    "    lemmatizer = WordNetLemmatizer()\n",
    "    lemmatized_data = [[lemmatizer.lemmatize(ch, get_wordnet_pos(ch)) for ch in word] for word in (data_words_nostops)]\n",
    "    string_data =  [' '.join(sent) for sent in lemmatized_data]\n",
    "    df['cleaned_title'] = string_data\n",
    "\n",
    "    df['Sentiment'] = df['cleaned_title'].apply(lambda x : get_sentiment(sia, str(x)))\n",
    "    df['compound'] = [sia.polarity_scores(str(x))['compound'] for x in df['cleaned_title']]\n",
    "    df['neg'] = [sia.polarity_scores(str(x))['neg'] for x in df['cleaned_title']]\n",
    "    df['neu'] = [sia.polarity_scores(str(x))['neu'] for x in df['cleaned_title']]\n",
    "    df['pos'] = [sia.polarity_scores(str(x))['pos'] for x in df['cleaned_title']]\n",
    "    \n",
    "    values = df['Sentiment'].value_counts(normalize=True)\n",
    "    \n",
    "    signal =''\n",
    "    if values['Positive']>0.3:\n",
    "        signal = 1\n",
    "    else:\n",
    "        signal = 0\n",
    "    \n",
    "    return signal"
   ]
  },
  {
   "cell_type": "markdown",
   "metadata": {},
   "source": [
    "[Sentiment Score of Ticker mentions in r/wallstreetbets](#sentiment)"
   ]
  },
  {
   "cell_type": "code",
   "execution_count": 12,
   "metadata": {},
   "outputs": [
    {
     "data": {
      "application/vnd.jupyter.widget-view+json": {
       "model_id": "73f82b23416c47b38ca5fed4e660a401",
       "version_major": 2,
       "version_minor": 0
      },
      "text/plain": [
       "interactive(children=(Text(value='GME', description='ticker'), Output()), _dom_classes=('widget-interact',))"
      ]
     },
     "metadata": {},
     "output_type": "display_data"
    },
    {
     "data": {
      "application/vnd.jupyter.widget-view+json": {
       "model_id": "7f61d38544b34181ab70a1f6a75e99c1",
       "version_major": 2,
       "version_minor": 0
      },
      "text/plain": [
       "VBox(children=(FigureWidget({\n",
       "    'data': [], 'layout': {'template': '...'}\n",
       "}),), layout=Layout(border='solid …"
      ]
     },
     "metadata": {},
     "output_type": "display_data"
    }
   ],
   "source": [
    "interact(plot_reddit_title_sentiment, ticker='GME')\n",
    "\n",
    "ipywLayout = widgets.Layout(border='solid 2px green')\n",
    "ipywLayout.display='none' # uncomment this, run cell again - then the graph/figure disappears\n",
    "widgets.VBox([fig], layout=ipywLayout)"
   ]
  },
  {
   "cell_type": "markdown",
   "metadata": {},
   "source": [
    "[Frequency of Ticker mentions in r/wallstreetbets](#frequency)"
   ]
  },
  {
   "cell_type": "code",
   "execution_count": 13,
   "metadata": {},
   "outputs": [],
   "source": [
    "fig = go.FigureWidget( layout=go.Layout() )\n",
    "def plot_reddit_ticker_frequency(ticker):\n",
    "\n",
    "    data = get_pushshift_data(q=ticker, data_type=\"submission\", after=\"24h\", size=500, sort_type=\"score\", sort=\"desc\", subreddit=\"wallstreetbets\").get(\"data\")\n",
    "    df = pd.DataFrame.from_records(data)[[\"title\"]]\n",
    "    count=len(df.index)\n",
    "    \n",
    "    dict_of_fig = dict({\n",
    "        \"data\": [{\"type\": \"indicator\",\n",
    "                  \"value\": count,\n",
    "                  \"delta\": {'reference': 311.666667},\n",
    "                  \"mode\" : \"number+delta+gauge\",\n",
    "                 }],\n",
    "        \"layout\": {\"template\": {\"data\": {'indicator': [{\n",
    "        'title': \"Frequency of submissions with \" + ticker + \" mentioned in the last 24h\"}]}\n",
    "        }}})\n",
    "\n",
    "    fig = go.Figure(dict_of_fig)\n",
    "\n",
    "    fig.show()"
   ]
  },
  {
   "cell_type": "code",
   "execution_count": 14,
   "metadata": {},
   "outputs": [],
   "source": [
    "def frequency_value(ticker):\n",
    "    data = get_pushshift_data(q=ticker, data_type=\"submission\", after=\"24h\", size=500, sort_type=\"score\", sort=\"desc\", subreddit=\"wallstreetbets\").get(\"data\")\n",
    "    df = pd.DataFrame.from_records(data)[[\"title\"]]\n",
    "    count=len(df.index)\n",
    "    \n",
    "    signal=''\n",
    "    if count>311.67:\n",
    "        signal = 1\n",
    "    else:\n",
    "        signal = 0\n",
    "    return signal"
   ]
  },
  {
   "cell_type": "code",
   "execution_count": 15,
   "metadata": {},
   "outputs": [
    {
     "data": {
      "application/vnd.jupyter.widget-view+json": {
       "model_id": "33ce3285546e42eea2451145a0e4042d",
       "version_major": 2,
       "version_minor": 0
      },
      "text/plain": [
       "interactive(children=(Text(value='GME', description='ticker'), Output()), _dom_classes=('widget-interact',))"
      ]
     },
     "metadata": {},
     "output_type": "display_data"
    },
    {
     "data": {
      "application/vnd.jupyter.widget-view+json": {
       "model_id": "e2614ca3d5ae4197be702175a03688f9",
       "version_major": 2,
       "version_minor": 0
      },
      "text/plain": [
       "VBox(children=(FigureWidget({\n",
       "    'data': [], 'layout': {'template': '...'}\n",
       "}),), layout=Layout(border='solid …"
      ]
     },
     "metadata": {},
     "output_type": "display_data"
    }
   ],
   "source": [
    "interact(plot_reddit_ticker_frequency, ticker='GME')\n",
    "\n",
    "ipywLayout = widgets.Layout(border='solid 2px green')\n",
    "ipywLayout.display='none' # uncomment this, run cell again - then the graph/figure disappears\n",
    "widgets.VBox([fig], layout=ipywLayout)"
   ]
  },
  {
   "cell_type": "code",
   "execution_count": 16,
   "metadata": {},
   "outputs": [],
   "source": [
    "from pandas_datareader import data\n",
    "import datetime\n",
    "import ta"
   ]
  },
  {
   "cell_type": "code",
   "execution_count": 17,
   "metadata": {},
   "outputs": [],
   "source": [
    "fig = go.FigureWidget( layout=go.Layout() )\n",
    "def plot_VPT(ticker):\n",
    "\n",
    "    start_date = '2020-01-01'\n",
    "    end_date = datetime.datetime.now()\n",
    "\n",
    "    panel_data = data.DataReader(ticker,'yahoo', start_date, end_date)\n",
    "    close = panel_data['Close']\n",
    "    volume = panel_data['Volume']\n",
    "    panel_data['VPT'] =ta.volume.volume_price_trend(close, volume)\n",
    "    ma_long_VPT = panel_data[('VPT')].rolling(window=5).mean()\n",
    "    panel_data['moving_average'] = ma_long_VPT\n",
    "    panel_data['change_alert'] = ((panel_data['VPT']-panel_data['moving_average']))\n",
    "    \n",
    "    latest_value=panel_data['change_alert'].iloc[-1]\n",
    "    \n",
    "    dict_of_fig = dict({\n",
    "        \"data\": [{\"type\": \"indicator\",\n",
    "                  \"value\": latest_value,\n",
    "                  \"delta\": {'reference': 2e+07},\n",
    "                  \"mode\" : \"number+delta+gauge\",\n",
    "                 }],\n",
    "        \"layout\": {\"template\": {\"data\": {'indicator': [{\n",
    "        'title': \"VPT Percentage Change Alert for \" + ticker}]}\n",
    "        }}})\n",
    "\n",
    "    fig = go.Figure(dict_of_fig)\n",
    "\n",
    "    fig.show()"
   ]
  },
  {
   "cell_type": "code",
   "execution_count": 18,
   "metadata": {},
   "outputs": [],
   "source": [
    "def vpt_value(ticker):\n",
    "    start_date = '2020-01-01'\n",
    "    end_date = datetime.datetime.now()\n",
    "\n",
    "    panel_data = data.DataReader(ticker,'yahoo', start_date, end_date)\n",
    "    close = panel_data['Close']\n",
    "    volume = panel_data['Volume']\n",
    "    panel_data['VPT'] =ta.volume.volume_price_trend(close, volume)\n",
    "    ma_long_VPT = panel_data[('VPT')].rolling(window=5).mean()\n",
    "    panel_data['moving_average'] = ma_long_VPT\n",
    "    panel_data['change_alert'] = ((panel_data['VPT']-panel_data['moving_average']))\n",
    "    \n",
    "    latest_value=panel_data['change_alert'].iloc[-1]\n",
    "    \n",
    "    signal =''\n",
    "    if latest_value>2e+07:\n",
    "        signal = 1\n",
    "    else:\n",
    "        signal = 0\n",
    "    return signal"
   ]
  },
  {
   "cell_type": "markdown",
   "metadata": {},
   "source": [
    "[VPT of Ticker Closing Price & Volume](#vpt)"
   ]
  },
  {
   "cell_type": "code",
   "execution_count": 20,
   "metadata": {},
   "outputs": [
    {
     "data": {
      "application/vnd.jupyter.widget-view+json": {
       "model_id": "274513f98fda4777a9c79e03ec56472c",
       "version_major": 2,
       "version_minor": 0
      },
      "text/plain": [
       "interactive(children=(Text(value='GME', description='ticker'), Output()), _dom_classes=('widget-interact',))"
      ]
     },
     "metadata": {},
     "output_type": "display_data"
    },
    {
     "data": {
      "application/vnd.jupyter.widget-view+json": {
       "model_id": "2ce4855b0a5641c7953bdef63a997572",
       "version_major": 2,
       "version_minor": 0
      },
      "text/plain": [
       "VBox(children=(FigureWidget({\n",
       "    'data': [], 'layout': {'template': '...'}\n",
       "}),), layout=Layout(border='solid …"
      ]
     },
     "metadata": {},
     "output_type": "display_data"
    }
   ],
   "source": [
    "interact(plot_VPT, ticker='GME')\n",
    "\n",
    "ipywLayout = widgets.Layout(border='solid 2px green')\n",
    "ipywLayout.display='none' # uncomment this, run cell again - then the graph/figure disappears\n",
    "widgets.VBox([fig], layout=ipywLayout)"
   ]
  },
  {
   "cell_type": "code",
   "execution_count": 21,
   "metadata": {},
   "outputs": [],
   "source": [
    "fig = go.FigureWidget( layout=go.Layout() )\n",
    "def plot_hv(ticker):\n",
    "    \n",
    "    start_date = '2020-01-01'\n",
    "    end_date = datetime.datetime.now()\n",
    "\n",
    "    panel_data_1d = data.DataReader(ticker, 'yahoo', start_date, end_date)\n",
    "    close_1d = panel_data_1d['Close']\n",
    "    hv_days_v1 = 5\n",
    "    hv_v1 = np.sqrt(252) * pd.DataFrame.rolling(np.log(close_1d / close_1d.shift(1)),window=hv_days_v1).std()\n",
    "    hv_merge = close_1d.to_frame().merge(hv_v1, left_index=True, right_index=True, how='left')\n",
    "    hv_merge.columns = [ticker + str(' Price'), str(hv_days_v1) + 'D HV']\n",
    "    hv_merge['Threshold Value'] = hv_merge[str(hv_days_v1) + 'D HV']\n",
    "    hv_merge['Trigger Alert 2'] = np.where(hv_merge[str(hv_days_v1) + 'D HV'] >= 2.0, True, False)\n",
    "    \n",
    "    latest_value=hv_merge['Threshold Value'].iloc[-1]\n",
    "\n",
    "    \n",
    "    dict_of_fig = dict({\n",
    "        \"data\": [{\"type\": \"indicator\",\n",
    "                  \"value\": latest_value,\n",
    "                  \"delta\": {'reference': 2.0},\n",
    "                  \"mode\" : \"number+delta+gauge\",\n",
    "                 }],\n",
    "        \"layout\": {\"template\": {\"data\": {'indicator': [{\n",
    "        'title': \"HV Trigger Alert for \" + ticker}]}\n",
    "        }}})\n",
    "\n",
    "    fig = go.Figure(dict_of_fig)\n",
    "\n",
    "    fig.show()"
   ]
  },
  {
   "cell_type": "code",
   "execution_count": 25,
   "metadata": {},
   "outputs": [],
   "source": [
    "def hv_value(ticker):\n",
    "    start_date = '2020-01-01'\n",
    "    end_date = datetime.datetime.now()\n",
    "\n",
    "    panel_data_1d = data.DataReader(ticker, 'yahoo', start_date, end_date)\n",
    "    close_1d = panel_data_1d['Close']\n",
    "    hv_days_v1 = 5\n",
    "    hv_v1 = np.sqrt(252) * pd.DataFrame.rolling(np.log(close_1d / close_1d.shift(1)),window=hv_days_v1).std()\n",
    "    hv_merge = close_1d.to_frame().merge(hv_v1, left_index=True, right_index=True, how='left')\n",
    "    hv_merge.columns = [ticker + str(' Price'), str(hv_days_v1) + 'D HV']\n",
    "    hv_merge['Threshold Value'] = hv_merge[str(hv_days_v1) + 'D HV']\n",
    "    hv_merge['Trigger Alert 2'] = np.where(hv_merge[str(hv_days_v1) + 'D HV'] >= 2.0, True, False)\n",
    "    \n",
    "    latest_value=hv_merge['Threshold Value'].iloc[-1]\n",
    "    \n",
    "    signal =''\n",
    "    if latest_value>2.0:\n",
    "        signal=1\n",
    "    else:\n",
    "        signal=0\n",
    "    return signal"
   ]
  },
  {
   "cell_type": "markdown",
   "metadata": {},
   "source": [
    "[Historical Volatility of Ticker](#hv)"
   ]
  },
  {
   "cell_type": "code",
   "execution_count": 22,
   "metadata": {},
   "outputs": [
    {
     "data": {
      "application/vnd.jupyter.widget-view+json": {
       "model_id": "ac98e7f104f2490d89d3c0808df7230f",
       "version_major": 2,
       "version_minor": 0
      },
      "text/plain": [
       "interactive(children=(Text(value='GME', description='ticker'), Output()), _dom_classes=('widget-interact',))"
      ]
     },
     "metadata": {},
     "output_type": "display_data"
    },
    {
     "data": {
      "application/vnd.jupyter.widget-view+json": {
       "model_id": "aa6e91056f8f4eb6bb2174970949b054",
       "version_major": 2,
       "version_minor": 0
      },
      "text/plain": [
       "VBox(children=(FigureWidget({\n",
       "    'data': [], 'layout': {'template': '...'}\n",
       "}),), layout=Layout(border='solid …"
      ]
     },
     "metadata": {},
     "output_type": "display_data"
    }
   ],
   "source": [
    "interact(plot_hv, ticker='GME')\n",
    "\n",
    "ipywLayout = widgets.Layout(border='solid 2px green')\n",
    "ipywLayout.display='none' # uncomment this, run cell again - then the graph/figure disappears\n",
    "widgets.VBox([fig], layout=ipywLayout)"
   ]
  },
  {
   "cell_type": "code",
   "execution_count": 23,
   "metadata": {},
   "outputs": [],
   "source": [
    "fig = go.FigureWidget( layout=go.Layout() )\n",
    "def plot_ema(ticker):\n",
    "    start_date = '2020-01-01'\n",
    "    end_date = datetime.datetime.now()\n",
    "\n",
    "    panel_data_1d = data.DataReader(ticker, 'yahoo', start_date, end_date)\n",
    "    close_1d = panel_data_1d['Close']\n",
    "    days_v1 = 5\n",
    "    days_v2 = 20\n",
    "    sma_v1 = close_1d.rolling(window=days_v1).mean()\n",
    "    mod_v1_close = close_1d.copy()\n",
    "    mod_v1_close.iloc[0:days_v1] = sma_v1[0:days_v1]\n",
    "    ema_v1 = mod_v1_close.ewm(span=days_v1, adjust=False).mean()\n",
    "    sma_v2 = close_1d.rolling(window=days_v2).mean()\n",
    "    mod_v2_close = close_1d.copy()\n",
    "    mod_v2_close.iloc[0:days_v2] = sma_v2[0:days_v2]\n",
    "    ema_v2 = mod_v2_close.ewm(span=days_v2, adjust=False).mean()\n",
    "    ema_merge = close_1d.to_frame().merge(ema_v1, left_index=True, right_index=True, how='left')\n",
    "    ema_merge = ema_merge.merge(ema_v2, left_index=True, right_index=True, how='left')\n",
    "    ema_merge.columns = [ticker + str(' Price'), str(days_v1) + 'D EMA', str(days_v2) + 'D EMA']\n",
    "    ema_v1_v2 = (ema_v1 - ema_v2) / ema_v2\n",
    "    close_1d_merge_trigger = close_1d.to_frame().merge(ema_v1_v2, left_index=True, right_index=True, how='left')\n",
    "    close_1d_merge_trigger.columns = [ticker + str(' Price'), str(days_v1) + '/' + str(days_v2) + ' D EMA PPO']\n",
    "    close_1d_merge_trigger['Threshold Value'] = close_1d_merge_trigger[str(days_v1) + '/' + str(days_v2) + ' D EMA PPO']\n",
    "    close_1d_merge_trigger['Trigger Alert 1'] = np.where(close_1d_merge_trigger[str(days_v1) + '/' + str(days_v2) + ' D EMA PPO'] >= 0.20, True, False)\n",
    "    \n",
    "    latest_value=close_1d_merge_trigger['Threshold Value'].iloc[-1]\n",
    "        \n",
    "    dict_of_fig = dict({\n",
    "        \"data\": [{\"type\": \"indicator\",\n",
    "                  \"value\": latest_value,\n",
    "                  \"delta\": {'reference': 0.2},\n",
    "                  \"mode\" : \"number+delta+gauge\",\n",
    "                 }],\n",
    "        \"layout\": {\"template\": {\"data\": {'indicator': [{\n",
    "        'title': \"PPO Trigger Alert for \" + ticker}]}\n",
    "        }}})\n",
    "\n",
    "    fig = go.Figure(dict_of_fig)\n",
    "\n",
    "    fig.show()"
   ]
  },
  {
   "cell_type": "code",
   "execution_count": 51,
   "metadata": {},
   "outputs": [],
   "source": [
    "def plot_jeff(ticker):\n",
    "    start_date = '2020-01-01'\n",
    "    end_date = datetime.datetime.now()\n",
    "\n",
    "    panel_data_1d = data.DataReader(ticker, 'yahoo', start_date, end_date)\n",
    "    close_1d = panel_data_1d['Close']\n",
    "    days_v1 = 5\n",
    "    days_v2 = 20\n",
    "    sma_v1 = close_1d.rolling(window=days_v1).mean()\n",
    "    mod_v1_close = close_1d.copy()\n",
    "    mod_v1_close.iloc[0:days_v1] = sma_v1[0:days_v1]\n",
    "    ema_v1 = mod_v1_close.ewm(span=days_v1, adjust=False).mean()\n",
    "    sma_v2 = close_1d.rolling(window=days_v2).mean()\n",
    "    mod_v2_close = close_1d.copy()\n",
    "    mod_v2_close.iloc[0:days_v2] = sma_v2[0:days_v2]\n",
    "    ema_v2 = mod_v2_close.ewm(span=days_v2, adjust=False).mean()\n",
    "    ema_merge = close_1d.to_frame().merge(ema_v1, left_index=True, right_index=True, how='left')\n",
    "    ema_merge = ema_merge.merge(ema_v2, left_index=True, right_index=True, how='left')\n",
    "    ema_merge.columns = [ticker + str(' Price'), str(days_v1) + 'D EMA', str(days_v2) + 'D EMA']\n",
    "    ema_v1_v2 = (ema_v1 - ema_v2) / ema_v2\n",
    "    \n",
    "    # Plot of all comparison between different EMA days\n",
    "    fig, ax = plt.subplots(figsize=(16,9))\n",
    "    ax.plot(ema_v1_v2.index, ema_v1_v2, label=str(days_v1) + '/' + str(days_v2) + ' D EMA PPO')\n",
    "    ax.set_title(\"Percentage Price Oscillator vs Price\")\n",
    "    ax.legend()\n",
    "\n",
    "    # Twin object for two different y-axis on the sample plot\n",
    "    ax2 = ax.twinx()\n",
    "    ax2.plot(close_1d, color='red', label=str(ticker + ' Closing Price'))\n",
    "    ax2.legend(loc='lower right')\n",
    "    "
   ]
  },
  {
   "cell_type": "code",
   "execution_count": 28,
   "metadata": {},
   "outputs": [],
   "source": [
    "def ppo_value(ticker):\n",
    "    start_date = '2020-01-01'\n",
    "    end_date = datetime.datetime.now()\n",
    "\n",
    "    panel_data_1d = data.DataReader(ticker, 'yahoo', start_date, end_date)\n",
    "    close_1d = panel_data_1d['Close']\n",
    "    days_v1 = 5\n",
    "    days_v2 = 20\n",
    "    sma_v1 = close_1d.rolling(window=days_v1).mean()\n",
    "    mod_v1_close = close_1d.copy()\n",
    "    mod_v1_close.iloc[0:days_v1] = sma_v1[0:days_v1]\n",
    "    ema_v1 = mod_v1_close.ewm(span=days_v1, adjust=False).mean()\n",
    "    sma_v2 = close_1d.rolling(window=days_v2).mean()\n",
    "    mod_v2_close = close_1d.copy()\n",
    "    mod_v2_close.iloc[0:days_v2] = sma_v2[0:days_v2]\n",
    "    ema_v2 = mod_v2_close.ewm(span=days_v2, adjust=False).mean()\n",
    "    ema_merge = close_1d.to_frame().merge(ema_v1, left_index=True, right_index=True, how='left')\n",
    "    ema_merge = ema_merge.merge(ema_v2, left_index=True, right_index=True, how='left')\n",
    "    ema_merge.columns = [ticker + str(' Price'), str(days_v1) + 'D EMA', str(days_v2) + 'D EMA']\n",
    "    ema_v1_v2 = (ema_v1 - ema_v2) / ema_v2\n",
    "    close_1d_merge_trigger = close_1d.to_frame().merge(ema_v1_v2, left_index=True, right_index=True, how='left')\n",
    "    close_1d_merge_trigger.columns = [ticker + str(' Price'), str(days_v1) + '/' + str(days_v2) + ' D EMA PPO']\n",
    "    close_1d_merge_trigger['Threshold Value'] = close_1d_merge_trigger[str(days_v1) + '/' + str(days_v2) + ' D EMA PPO']\n",
    "    close_1d_merge_trigger['Trigger Alert 1'] = np.where(close_1d_merge_trigger[str(days_v1) + '/' + str(days_v2) + ' D EMA PPO'] >= 0.20, True, False)\n",
    "    \n",
    "    latest_value=close_1d_merge_trigger['Threshold Value'].iloc[-1]\n",
    "        \n",
    "    signal =''\n",
    "    if latest_value>0.2:\n",
    "        signal = 1\n",
    "    else:\n",
    "        signal = 0\n",
    "    return signal"
   ]
  },
  {
   "cell_type": "markdown",
   "metadata": {},
   "source": [
    "[PPO (between 5v20d) of Ticker](#ppo)"
   ]
  },
  {
   "cell_type": "code",
   "execution_count": 24,
   "metadata": {},
   "outputs": [
    {
     "data": {
      "application/vnd.jupyter.widget-view+json": {
       "model_id": "57a30adca26645d085592222dfcdf754",
       "version_major": 2,
       "version_minor": 0
      },
      "text/plain": [
       "interactive(children=(Text(value='GME', description='ticker'), Output()), _dom_classes=('widget-interact',))"
      ]
     },
     "metadata": {},
     "output_type": "display_data"
    },
    {
     "data": {
      "application/vnd.jupyter.widget-view+json": {
       "model_id": "80f94d1edeb44484a4946560acbabceb",
       "version_major": 2,
       "version_minor": 0
      },
      "text/plain": [
       "VBox(children=(FigureWidget({\n",
       "    'data': [], 'layout': {'template': '...'}\n",
       "}),), layout=Layout(border='solid …"
      ]
     },
     "metadata": {},
     "output_type": "display_data"
    }
   ],
   "source": [
    "interact(plot_ema, ticker='GME')\n",
    "\n",
    "ipywLayout = widgets.Layout(border='solid 2px green')\n",
    "ipywLayout.display='none' # uncomment this, run cell again - then the graph/figure disappears\n",
    "widgets.VBox([fig], layout=ipywLayout)"
   ]
  },
  {
   "cell_type": "code",
   "execution_count": 53,
   "metadata": {},
   "outputs": [
    {
     "data": {
      "image/png": "[encoded data removed]",
      "text/plain": [
       "<Figure size 1152x648 with 2 Axes>"
      ]
     },
     "metadata": {
      "needs_background": "light"
     },
     "output_type": "display_data"
    }
   ],
   "source": [
    "plot_jeff('gme')"
   ]
  },
  {
   "cell_type": "markdown",
   "metadata": {},
   "source": [
    "[Scorecard](#=scorecard)"
   ]
  },
  {
   "cell_type": "code",
   "execution_count": 44,
   "metadata": {},
   "outputs": [],
   "source": [
    "fig = go.FigureWidget( layout=go.Layout() )\n",
    "def scorecard(ticker):\n",
    "    freq = frequency_value(ticker)\n",
    "    sentiment = sentiment_value(ticker)\n",
    "    ppo = ppo_value(ticker)\n",
    "    hv = hv_value(ticker)\n",
    "    vpt = vpt_value(ticker)\n",
    "    overall = 0.11*int(freq)+0.07*int(sentiment)+0.28*int(ppo)+0.27*int(hv)+0.27*int(vpt)\n",
    "    header = dict(values=['Criteria', 'Alert'])\n",
    "    values = dict(values=[['Frequency of Ticker mentioned', 'Positive Sentiment Score', 'PPO between 5v20d', 'Historical Volatility', 'VPT of Closing Price & Volume', 'Overall'],[freq,sentiment,ppo,hv,vpt,overall]])\n",
    "    \n",
    "    dict_of_fig = dict({\n",
    "        \"data\": [{\"type\": \"table\",\n",
    "                  \"cells\": dict(values),\n",
    "                  \"header\": dict(header)}],\n",
    "        \"layout\": {\"title\": {\"text\": \"Scorecard\",}, \"xaxis_title\": \"Subreddit\", \"yaxis_title\": \"No. of Submissions\"}\n",
    "    })\n",
    "\n",
    "    fig = go.Figure(dict_of_fig)\n",
    "\n",
    "    fig.show()"
   ]
  },
  {
   "cell_type": "code",
   "execution_count": 45,
   "metadata": {},
   "outputs": [
    {
     "data": {
      "application/vnd.jupyter.widget-view+json": {
       "model_id": "337d9f5b1ea84a6d838df34d4f80469f",
       "version_major": 2,
       "version_minor": 0
      },
      "text/plain": [
       "interactive(children=(Text(value='GME', description='ticker'), Output()), _dom_classes=('widget-interact',))"
      ]
     },
     "metadata": {},
     "output_type": "display_data"
    },
    {
     "data": {
      "application/vnd.jupyter.widget-view+json": {
       "model_id": "c41449ffbb37462681a98c4921e84cb5",
       "version_major": 2,
       "version_minor": 0
      },
      "text/plain": [
       "VBox(children=(FigureWidget({\n",
       "    'data': [], 'layout': {'template': '...'}\n",
       "}),), layout=Layout(border='solid …"
      ]
     },
     "metadata": {},
     "output_type": "display_data"
    }
   ],
   "source": [
    "interact(scorecard, ticker='GME')\n",
    "\n",
    "ipywLayout = widgets.Layout(border='solid 2px green')\n",
    "ipywLayout.display='none' # uncomment this, run cell again - then the graph/figure disappears\n",
    "widgets.VBox([fig], layout=ipywLayout)"
   ]
  }
 ],
 "metadata": {
  "kernelspec": {
   "display_name": "Python 3",
   "language": "python",
   "name": "python3"
  },
  "language_info": {
   "codemirror_mode": {
    "name": "ipython",
    "version": 3
   },
   "file_extension": ".py",
   "mimetype": "text/x-python",
   "name": "python",
   "nbconvert_exporter": "python",
   "pygments_lexer": "ipython3",
   "version": "3.8.5"
  }
 },
 "nbformat": 4,
 "nbformat_minor": 4
}
