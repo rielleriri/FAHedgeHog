{
 "cells": [
  {
   "cell_type": "code",
   "execution_count": 1,
   "metadata": {},
   "outputs": [],
   "source": [
    "# importing libraries\n",
    "from __future__ import print_function\n",
    "from ipywidgets import interact, interactive, fixed, interact_manual\n",
    "from IPython.display import display, HTML\n",
    "\n",
    "import emoji\n",
    "import nltk\n",
    "import re\n",
    "import requests\n",
    "import numpy as np\n",
    "import contractions\n",
    "import pandas as pd\n",
    "import plotly.express as px\n",
    "import plotly\n",
    "import plotly.graph_objects as go\n",
    "import seaborn as sns\n",
    "import ipywidgets as widgets\n",
    "import gensim\n",
    "\n",
    "nltk.download()"
   ]
  },
  {
   "cell_type": "code",
   "execution_count": 2,
   "metadata": {},
   "outputs": [],
   "source": [
    "# a couple of helper functions\n",
    "\n",
    "def get_pushshift_data(data_type, **kwargs):\n",
    "    \"\"\"\n",
    "    Gets data from the pushshift api.\n",
    "    \n",
    "    Data type can be 'comment' or 'submission'\n",
    "    The rest of the args as interpreted as payload.\n",
    "    \n",
    "    Read more: https://github.com/pushshift/api\n",
    "    \"\"\"\n",
    "    \n",
    "    base_url = f\"https://api.pushshift.io/reddit/search/{data_type}/\"\n",
    "    payload = kwargs\n",
    "    \n",
    "    request = requests.get(base_url, params=payload)\n",
    "    \n",
    "    return request.json()\n",
    "\n",
    "\n",
    "def make_clickable(val):\n",
    "    \"\"\"\n",
    "    Makes a pandas column clickable.\n",
    "    \"\"\"\n",
    "    \n",
    "    return '<a href=\"{}\">Link</a>'.format(val)"
   ]
  },
  {
   "cell_type": "markdown",
   "metadata": {},
   "source": [
    "ASDASDADAS\n"
   ]
  },
  {
   "cell_type": "code",
   "execution_count": 22,
   "metadata": {},
   "outputs": [],
   "source": [
    "fig = go.FigureWidget( layout=go.Layout() )\n",
    "def plot_reddit_submission_activity(ticker):\n",
    "\n",
    "    data = get_pushshift_data(data_type=\"submission\", q=ticker, after=\"24h\", size=500, aggs=\"subreddit\").get(\"data\")\n",
    "\n",
    "    df = pd.DataFrame.from_records(data).value_counts(\"subreddit\")[0:10]\n",
    "\n",
    "    x_data = df.keys()\n",
    "    y_data = df.values\n",
    "    \n",
    "    dict_of_fig = dict({\n",
    "        \"data\": [{\"type\": \"bar\",\n",
    "                  \"x\": x_data,\n",
    "                  \"y\": y_data}],\n",
    "        \"layout\": {\"title\": {\"text\": \"Subreddits with most activity - submissions with \" + ticker + \" in the last 24h\",}, \"xaxis_title\": \"Subreddit\", \"yaxis_title\": \"No. of Submissions\"}\n",
    "    })\n",
    "\n",
    "    fig = go.Figure(dict_of_fig)\n",
    "\n",
    "    fig.show()"
   ]
  },
  {
   "cell_type": "code",
   "execution_count": 23,
   "metadata": {
    "scrolled": false
   },
   "outputs": [
    {
     "data": {
      "application/vnd.jupyter.widget-view+json": {
       "model_id": "fe4917dc8ffd424cbc6e499c39bb2cf3",
       "version_major": 2,
       "version_minor": 0
      },
      "text/plain": [
       "interactive(children=(Text(value='GME', description='ticker'), Output()), _dom_classes=('widget-interact',))"
      ]
     },
     "metadata": {},
     "output_type": "display_data"
    },
    {
     "data": {
      "application/vnd.jupyter.widget-view+json": {
       "model_id": "4a1e6361f75943fe8ffee9bf03e51155",
       "version_major": 2,
       "version_minor": 0
      },
      "text/plain": [
       "VBox(children=(FigureWidget({\n",
       "    'data': [], 'layout': {'template': '...'}\n",
       "}),), layout=Layout(border='solid …"
      ]
     },
     "metadata": {},
     "output_type": "display_data"
    }
   ],
   "source": [
    "interact(plot_reddit_submission_activity, ticker='GME')\n",
    "\n",
    "ipywLayout = widgets.Layout(border='solid 2px green')\n",
    "ipywLayout.display='none' # uncomment this, run cell again - then the graph/figure disappears\n",
    "widgets.VBox([fig], layout=ipywLayout)"
   ]
  },
  {
   "cell_type": "code",
   "execution_count": 6,
   "metadata": {},
   "outputs": [],
   "source": [
    "from nltk.sentiment import SentimentIntensityAnalyzer as SIA\n",
    "\n",
    "def get_sentiment(sia, text):\n",
    "    if sia.polarity_scores(text)[\"compound\"] > 0:\n",
    "        return \"Positive\"\n",
    "    elif sia.polarity_scores(text)[\"compound\"] < 0:\n",
    "        return \"Negative\"\n",
    "    else:\n",
    "        return \"Neutral\"\n",
    "    \n",
    "sia = SIA()  "
   ]
  },
  {
   "cell_type": "code",
   "execution_count": 7,
   "metadata": {},
   "outputs": [],
   "source": [
    "from gensim.utils import simple_preprocess\n",
    "def remove_stopwords(texts):\n",
    "    return [[word for word in simple_preprocess(str(doc)) if word not in stop_words] for doc in texts]"
   ]
  },
  {
   "cell_type": "code",
   "execution_count": 8,
   "metadata": {},
   "outputs": [],
   "source": [
    "from nltk.corpus import stopwords\n",
    "import spacy \n",
    "spacy.load('en_core_web_sm')\n",
    "\n",
    "stop_words = stopwords.words('english')\n",
    "spacy_stopwords = spacy.lang.en.stop_words.STOP_WORDS\n",
    "def sent_to_words(sentences):\n",
    "    for sentence in sentences:\n",
    "        yield(gensim.utils.simple_preprocess(str(sentence), deacc=False))  # deacc=True removes punctuation"
   ]
  },
  {
   "cell_type": "code",
   "execution_count": 9,
   "metadata": {},
   "outputs": [],
   "source": [
    "from nltk.stem import WordNetLemmatizer\n",
    "from nltk.corpus import wordnet\n",
    "\n",
    "def get_wordnet_pos(word):\n",
    "    \"\"\"Map POS tag to first character lemmatize() accepts\"\"\"\n",
    "    tag = nltk.pos_tag([word])[0][1][0].upper()\n",
    "    tag_dict = {\"J\": wordnet.ADJ,\n",
    "                \"N\": wordnet.NOUN,\n",
    "                \"V\": wordnet.VERB,\n",
    "                \"R\": wordnet.ADV}\n",
    "\n",
    "    return tag_dict.get(tag, wordnet.NOUN)"
   ]
  },
  {
   "cell_type": "code",
   "execution_count": 43,
   "metadata": {},
   "outputs": [],
   "source": [
    "fig = go.FigureWidget( layout=go.Layout() )\n",
    "def plot_reddit_title_sentiment(ticker):\n",
    "    labels = ['Neutral','Positive','Negative']\n",
    "    colors = ['blue', 'green', 'red']\n",
    "    mode_size = [8]\n",
    "    line_size = [5]\n",
    "    \n",
    "    data = get_pushshift_data(q=ticker, data_type=\"submission\", after=\"24h\", size=500, sort_type=\"score\", sort=\"desc\", subreddit=\"wallstreetbets\").get(\"data\")\n",
    "    df = pd.DataFrame.from_records(data)[[\"title\", \"created_utc\",\"permalink\"]]\n",
    "    \n",
    "    data = df.title.tolist()\n",
    "    data = [re.sub('\\s+', ' ', str(sent)) for sent in data]\n",
    "    data = [re.sub(r\"(?:\\@|https?\\://)\\S+\", \"\", str(sent)) for sent in data]\n",
    "    data = [emoji.demojize(str(sent), delimiters=(\"\", \" \")) for sent in data]\n",
    "    data = [re.sub('[\\s]+', ' ', str(sent)) for sent in data]\n",
    "    data = [re.sub(r'\\b(\\w+)( \\1\\b)+', r'\\1', str(sent)) for sent in data]\n",
    "    data = [contractions.fix(str(sent)) for sent in data]\n",
    "    data = [re.sub(r\"\\b\\d+\\b\", \" \", str(sent)) for sent in data]\n",
    "    data = [re.sub(r'[^\\x00-\\x7F]+',\"'\", str(sent)) for sent in data]\n",
    "    data = [re.sub(r'[^\\w]|_',' ', str(sent)) for sent in data]\n",
    "    data = [re.sub(r'\\bgamestop\\b', 'gme', str(sent)) for sent in data]\n",
    "    data = [re.sub(r'\\bgamestops\\b', 'gme', str(sent)) for sent in data]\n",
    "    data = [re.sub(r'\\bgamestonk\\b', 'gme', str(sent)) for sent in data]\n",
    "    data = [re.sub(r'\\bgalaxy\\b', 'gme', str(sent)) for sent in data]\n",
    "    data = [re.sub(r'\\bmelvin\\b', 'gme', str(sent)) for sent in data]\n",
    "    data = [re.sub(r'\\brocket\\b', 'gme', str(sent)) for sent in data]\n",
    "    data = [re.sub(r'\\bmoon\\b', 'gme', str(sent)) for sent in data]\n",
    "    data = [re.sub(r'\\bmooning\\b', 'gme', str(sent)) for sent in data]\n",
    "    data = [re.sub('[\\s]+', ' ', str(sent)) for sent in data]\n",
    "    data = [str(sent).lower() for sent in data] \n",
    "    data_words = list(sent_to_words(data))\n",
    "    data_words_nostops = remove_stopwords(data_words)\n",
    "    lemmatizer = WordNetLemmatizer()\n",
    "    lemmatized_data = [[lemmatizer.lemmatize(ch, get_wordnet_pos(ch)) for ch in word] for word in (data_words_nostops)]\n",
    "    string_data =  [' '.join(sent) for sent in lemmatized_data]\n",
    "    df['cleaned_title'] = string_data\n",
    "\n",
    "    df['Sentiment'] = df['cleaned_title'].apply(lambda x : get_sentiment(sia, str(x)))\n",
    "    df['compound'] = [sia.polarity_scores(str(x))['compound'] for x in df['cleaned_title']]\n",
    "    df['neg'] = [sia.polarity_scores(str(x))['neg'] for x in df['cleaned_title']]\n",
    "    df['neu'] = [sia.polarity_scores(str(x))['neu'] for x in df['cleaned_title']]\n",
    "    df['pos'] = [sia.polarity_scores(str(x))['pos'] for x in df['cleaned_title']]\n",
    "    \n",
    "    values = df['Sentiment'].value_counts(normalize=True)\n",
    "    \n",
    "    dict_of_fig = dict({\n",
    "        \"data\": [{\"type\": \"pie\",\n",
    "                  \"labels\": labels,\n",
    "                  \"values\": values,\n",
    "                  \"marker\": {'colors': ['#e6f2ff', '#38F29D', '#F30000']},\n",
    "                  \"textinfo\":\"percent+label\"}],\n",
    "        \"layout\": {\"title\": {\"text\": \"r/wallstreetbets sentiment - submissions with \" + ticker + \" in the last 24h\",}}\n",
    "    })\n",
    "\n",
    "    fig = go.Figure(dict_of_fig)\n",
    "\n",
    "    fig.show()"
   ]
  },
  {
   "cell_type": "code",
   "execution_count": 44,
   "metadata": {},
   "outputs": [
    {
     "data": {
      "application/vnd.jupyter.widget-view+json": {
       "model_id": "ce39c4278503456bb2ffef01fef7a1be",
       "version_major": 2,
       "version_minor": 0
      },
      "text/plain": [
       "interactive(children=(Text(value='GME', description='ticker'), Output()), _dom_classes=('widget-interact',))"
      ]
     },
     "metadata": {},
     "output_type": "display_data"
    },
    {
     "data": {
      "application/vnd.jupyter.widget-view+json": {
       "model_id": "f54260b531654c78bf3aa9e12b1df080",
       "version_major": 2,
       "version_minor": 0
      },
      "text/plain": [
       "VBox(children=(FigureWidget({\n",
       "    'data': [], 'layout': {'template': '...'}\n",
       "}),), layout=Layout(border='solid …"
      ]
     },
     "metadata": {},
     "output_type": "display_data"
    }
   ],
   "source": [
    "interact(plot_reddit_title_sentiment, ticker='GME')\n",
    "\n",
    "ipywLayout = widgets.Layout(border='solid 2px green')\n",
    "ipywLayout.display='none' # uncomment this, run cell again - then the graph/figure disappears\n",
    "widgets.VBox([fig], layout=ipywLayout)"
   ]
  },
  {
   "cell_type": "code",
   "execution_count": 148,
   "metadata": {},
   "outputs": [],
   "source": [
    "fig = go.FigureWidget( layout=go.Layout() )\n",
    "def plot_reddit_ticker_frequency(ticker):\n",
    "\n",
    "    data = get_pushshift_data(q=ticker, data_type=\"submission\", after=\"24h\", size=500, sort_type=\"score\", sort=\"desc\", subreddit=\"wallstreetbets\").get(\"data\")\n",
    "    df = pd.DataFrame.from_records(data)[[\"title\"]]\n",
    "    count=len(df.index)\n",
    "    \n",
    "    dict_of_fig = dict({\n",
    "        \"data\": [{\"type\": \"indicator\",\n",
    "                  \"value\": count,\n",
    "                  \"delta\": {'reference': 160},\n",
    "                  \"mode\" : \"number+delta+gauge\",\n",
    "                 }],\n",
    "        \"layout\": {\"template\": {\"data\": {'indicator': [{\n",
    "        'title': \"Frequency of submissions with \" + ticker + \" mentioned in the last 24h\"}]}\n",
    "        }}})\n",
    "\n",
    "    fig = go.Figure(dict_of_fig)\n",
    "\n",
    "    fig.show()"
   ]
  },
  {
   "cell_type": "code",
   "execution_count": 149,
   "metadata": {},
   "outputs": [
    {
     "data": {
      "application/vnd.jupyter.widget-view+json": {
       "model_id": "1882f23117924490b6a0360949ff1031",
       "version_major": 2,
       "version_minor": 0
      },
      "text/plain": [
       "interactive(children=(Text(value='GME', description='ticker'), Output()), _dom_classes=('widget-interact',))"
      ]
     },
     "metadata": {},
     "output_type": "display_data"
    },
    {
     "data": {
      "application/vnd.jupyter.widget-view+json": {
       "model_id": "d0f72cf4d32b4611a48ee3629c7feb50",
       "version_major": 2,
       "version_minor": 0
      },
      "text/plain": [
       "VBox(children=(FigureWidget({\n",
       "    'data': [], 'layout': {'template': '...'}\n",
       "}),), layout=Layout(border='solid …"
      ]
     },
     "metadata": {},
     "output_type": "display_data"
    }
   ],
   "source": [
    "interact(plot_reddit_ticker_frequency, ticker='GME')\n",
    "\n",
    "ipywLayout = widgets.Layout(border='solid 2px green')\n",
    "ipywLayout.display='none' # uncomment this, run cell again - then the graph/figure disappears\n",
    "widgets.VBox([fig], layout=ipywLayout)"
   ]
  },
  {
   "cell_type": "code",
   "execution_count": 183,
   "metadata": {},
   "outputs": [],
   "source": [
    "from pandas_datareader import data\n",
    "import datetime\n",
    "import ta"
   ]
  },
  {
   "cell_type": "code",
   "execution_count": 184,
   "metadata": {},
   "outputs": [],
   "source": [
    "fig = go.FigureWidget( layout=go.Layout() )\n",
    "def plot_VPT(ticker):\n",
    "\n",
    "    start_date = '2020-01-01'\n",
    "    end_date = datetime.datetime.now()\n",
    "\n",
    "    panel_data = data.DataReader(ticker,'yahoo', start_date, end_date)\n",
    "    close = panel_data['Close']\n",
    "    volume = panel_data['Volume']\n",
    "    panel_data['VPT'] =ta.volume.volume_price_trend(close, volume)\n",
    "    ma_long_VPT = panel_data[('VPT')].rolling(window=5).mean()\n",
    "    panel_data['moving_average'] = ma_long_VPT\n",
    "    panel_data['change_alert'] = ((panel_data['VPT']-panel_data['moving_average']))\n",
    "    \n",
    "    latest_value=panel_data['change_alert'].iloc[-1]\n",
    "    \n",
    "    dict_of_fig = dict({\n",
    "        \"data\": [{\"type\": \"indicator\",\n",
    "                  \"value\": latest_value,\n",
    "                  \"delta\": {'reference': 2.719832e+07},\n",
    "                  \"mode\" : \"number+delta+gauge\",\n",
    "                 }],\n",
    "        \"layout\": {\"template\": {\"data\": {'indicator': [{\n",
    "        'title': \"VPT Percentage Change Alert for \" + ticker}]}\n",
    "        }}})\n",
    "\n",
    "    fig = go.Figure(dict_of_fig)\n",
    "\n",
    "    fig.show()"
   ]
  },
  {
   "cell_type": "code",
   "execution_count": 185,
   "metadata": {},
   "outputs": [
    {
     "data": {
      "application/vnd.jupyter.widget-view+json": {
       "model_id": "d7686096ea9345d0b8aff415b5106762",
       "version_major": 2,
       "version_minor": 0
      },
      "text/plain": [
       "interactive(children=(Text(value='GME', description='ticker'), Output()), _dom_classes=('widget-interact',))"
      ]
     },
     "metadata": {},
     "output_type": "display_data"
    },
    {
     "data": {
      "application/vnd.jupyter.widget-view+json": {
       "model_id": "cb58e48bf755420faddc80e483df20eb",
       "version_major": 2,
       "version_minor": 0
      },
      "text/plain": [
       "VBox(children=(FigureWidget({\n",
       "    'data': [], 'layout': {'template': '...'}\n",
       "}),), layout=Layout(border='solid …"
      ]
     },
     "metadata": {},
     "output_type": "display_data"
    }
   ],
   "source": [
    "interact(plot_VPT, ticker='GME')\n",
    "\n",
    "ipywLayout = widgets.Layout(border='solid 2px green')\n",
    "ipywLayout.display='none' # uncomment this, run cell again - then the graph/figure disappears\n",
    "widgets.VBox([fig], layout=ipywLayout)"
   ]
  }
 ],
 "metadata": {
  "kernelspec": {
   "display_name": "Python 3",
   "language": "python",
   "name": "python3"
  },
  "language_info": {
   "codemirror_mode": {
    "name": "ipython",
    "version": 3
   },
   "file_extension": ".py",
   "mimetype": "text/x-python",
   "name": "python",
   "nbconvert_exporter": "python",
   "pygments_lexer": "ipython3",
   "version": "3.8.5"
  }
 },
 "nbformat": 4,
 "nbformat_minor": 4
}
